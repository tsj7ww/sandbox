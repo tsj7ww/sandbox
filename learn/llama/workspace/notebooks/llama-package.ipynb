{
 "cells": [
  {
   "cell_type": "code",
   "execution_count": 1,
   "metadata": {},
   "outputs": [],
   "source": [
    "import os\n",
    "from llama_cpp import Llama\n",
    "import pandas as pd\n",
    "import matplotlib.pyplot as plt\n",
    "from IPython.display import display, HTML\n",
    "import time"
   ]
  },
  {
   "cell_type": "code",
   "execution_count": 2,
   "metadata": {
    "vscode": {
     "languageId": "plaintext"
    }
   },
   "outputs": [],
   "source": [
    "# Initialize the LLaMA model\n",
    "# Note: Replace 'codellama-7b-instruct.Q4_K_M.gguf' with your actual model file\n",
    "MODEL_PATH = \"/models/codellama-7b-instruct.Q4_K_M.gguf\"\n",
    "\n",
    "class CodeAssistant:\n",
    "    def __init__(self, model_path):\n",
    "        self.llm = Llama(\n",
    "            model_path=model_path,\n",
    "            n_ctx=2048,  # Context window\n",
    "            n_threads=4,  # Adjust based on your CPU\n",
    "            n_gpu_layers=0  # Set to higher number if using GPU\n",
    "        )\n",
    "        \n",
    "    def generate_response(self, prompt, max_tokens=512, temperature=0.7):\n",
    "        \"\"\"Generate a response from the model\"\"\"\n",
    "        response = self.llm(\n",
    "            prompt,\n",
    "            max_tokens=max_tokens,\n",
    "            temperature=temperature,\n",
    "            stop=[\"```\", \"Human:\", \"\\n\\n\"],\n",
    "            echo=False\n",
    "        )\n",
    "        return response['choices'][0]['text'].strip()\n",
    "    \n",
    "    def format_code(self, code):\n",
    "        \"\"\"Format code for display\"\"\"\n",
    "        return HTML(f\"\"\"\n",
    "        <div style=\"background-color: #f8f9fa; padding: 10px; border-radius: 5px; font-family: monospace;\">\n",
    "            <pre>{code}</pre>\n",
    "        </div>\n",
    "        \"\"\")"
   ]
  },
  {
   "cell_type": "code",
   "execution_count": null,
   "metadata": {
    "vscode": {
     "languageId": "plaintext"
    }
   },
   "outputs": [],
   "source": [
    "# Example prompts for different tasks\n",
    "EXAMPLE_PROMPTS = {\n",
    "    \"explain_code\": \"\"\"\n",
    "    Explain what this code does:\n",
    "    ```python\n",
    "    {code}\n",
    "    ```\n",
    "    \"\"\",\n",
    "    \"optimize_code\": \"\"\"\n",
    "    Optimize this code for better performance:\n",
    "    ```python\n",
    "    {code}\n",
    "    ```\n",
    "    \"\"\",\n",
    "    \"generate_code\": \"\"\"\n",
    "    Write Python code to {task}\n",
    "    \"\"\"\n",
    "}\n",
    "\n",
    "# Initialize assistant (run this after placing your model file)\n",
    "assistant = CodeAssistant(MODEL_PATH)\n",
    "\n",
    "# Example usage for code generation\n",
    "task = \"create a function that calculates the Fibonacci sequence up to n terms using dynamic programming\"\n",
    "response = assistant.generate_response(\n",
    "    EXAMPLE_PROMPTS[\"generate_code\"].format(task=task)\n",
    ")\n",
    "display(assistant.format_code(response))\n",
    "\n",
    "# Example for code explanation\n",
    "code_to_explain = \"\"\"\n",
    "def quicksort(arr):\n",
    "    if len(arr) <= 1:\n",
    "        return arr\n",
    "    pivot = arr[len(arr) // 2]\n",
    "    left = [x for x in arr if x < pivot]\n",
    "    middle = [x for x in arr if x == pivot]\n",
    "    right = [x for x in arr if x > pivot]\n",
    "    return quicksort(left) + middle + quicksort(right)\n",
    "\"\"\"\n",
    "explanation = assistant.generate_response(\n",
    "    EXAMPLE_PROMPTS[\"explain_code\"].format(code=code_to_explain)\n",
    ")\n",
    "print(\"Explanation:\", explanation)\n",
    "\n",
    "# Interactive code optimization example\n",
    "slow_code = \"\"\"\n",
    "def find_duplicates(arr):\n",
    "    duplicates = []\n",
    "    for i in range(len(arr)):\n",
    "        for j in range(i + 1, len(arr)):\n",
    "            if arr[i] == arr[j] and arr[i] not in duplicates:\n",
    "                duplicates.append(arr[i])\n",
    "    return duplicates\n",
    "\"\"\"\n",
    "optimized = assistant.generate_response(\n",
    "    EXAMPLE_PROMPTS[\"optimize_code\"].format(code=slow_code)\n",
    ")\n",
    "display(assistant.format_code(optimized))"
   ]
  },
  {
   "cell_type": "code",
   "execution_count": 4,
   "metadata": {
    "vscode": {
     "languageId": "plaintext"
    }
   },
   "outputs": [],
   "source": [
    "# Performance comparison function\n",
    "def compare_performance(original_code, optimized_code, test_data):\n",
    "    \"\"\"Compare execution time of original vs optimized code\"\"\"\n",
    "    # Prepare test environment\n",
    "    original_locals = {}\n",
    "    optimized_locals = {}\n",
    "    \n",
    "    # Execute both versions\n",
    "    exec(original_code, globals(), original_locals)\n",
    "    exec(optimized_code, globals(), optimized_locals)\n",
    "    \n",
    "    # Time original version\n",
    "    start = time.time()\n",
    "    original_result = original_locals['find_duplicates'](test_data)\n",
    "    original_time = time.time() - start\n",
    "    \n",
    "    # Time optimized version\n",
    "    start = time.time()\n",
    "    optimized_result = optimized_locals['find_duplicates'](test_data)\n",
    "    optimized_time = time.time() - start\n",
    "    \n",
    "    return {\n",
    "        'original_time': original_time,\n",
    "        'optimized_time': optimized_time,\n",
    "        'speedup': original_time / optimized_time if optimized_time > 0 else float('inf')\n",
    "    }"
   ]
  },
  {
   "cell_type": "code",
   "execution_count": null,
   "metadata": {},
   "outputs": [],
   "source": []
  },
  {
   "cell_type": "code",
   "execution_count": null,
   "metadata": {},
   "outputs": [],
   "source": []
  },
  {
   "cell_type": "code",
   "execution_count": 9,
   "metadata": {
    "vscode": {
     "languageId": "plaintext"
    }
   },
   "outputs": [
    {
     "name": "stderr",
     "output_type": "stream",
     "text": [
      "Llama.generate: 6 prefix-match hit, remaining 5 prompt tokens to eval\n",
      "llama_perf_context_print:        load time =    6279.49 ms\n",
      "llama_perf_context_print: prompt eval time =       0.00 ms /     5 tokens (    0.00 ms per token,      inf tokens per second)\n",
      "llama_perf_context_print:        eval time =       0.00 ms /   140 runs   (    0.00 ms per token,      inf tokens per second)\n",
      "llama_perf_context_print:       total time =   20278.31 ms /   145 tokens\n"
     ]
    },
    {
     "data": {
      "text/plain": [
       "'\",\\n                    \"answer\": \"100\"\\n                },\\n                {\\n                    \"question\": \"What is 10 x 100?\",\\n                    \"answer\": \"1000\"\\n                },\\n                {\\n                    \"question\": \"What is 100 x 10?\",\\n                    \"answer\": \"1000\"\\n                },\\n                {\\n                    \"question\": \"What is 100 x 100?\",\\n                    \"answer\": \"10000\"\\n                },\\n            ]\\n        }\\n    ]\\n}'"
      ]
     },
     "execution_count": 9,
     "metadata": {},
     "output_type": "execute_result"
    }
   ],
   "source": [
    "assistant.generate_response('what is 10*10?')"
   ]
  },
  {
   "cell_type": "code",
   "execution_count": null,
   "metadata": {},
   "outputs": [],
   "source": []
  },
  {
   "cell_type": "code",
   "execution_count": null,
   "metadata": {},
   "outputs": [],
   "source": []
  },
  {
   "cell_type": "code",
   "execution_count": 5,
   "metadata": {
    "vscode": {
     "languageId": "plaintext"
    }
   },
   "outputs": [
    {
     "ename": "SyntaxError",
     "evalue": "invalid syntax (<string>, line 1)",
     "output_type": "error",
     "traceback": [
      "Traceback \u001b[0;36m(most recent call last)\u001b[0m:\n",
      "\u001b[0m  File \u001b[1;32m/opt/venv/lib/python3.10/site-packages/IPython/core/interactiveshell.py:3577\u001b[0m in \u001b[1;35mrun_code\u001b[0m\n    exec(code_obj, self.user_global_ns, self.user_ns)\u001b[0m\n",
      "\u001b[0m  Cell \u001b[1;32mIn[5], line 3\u001b[0m\n    results = compare_performance(slow_code, optimized, test_data)\u001b[0m\n",
      "\u001b[0;36m  Cell \u001b[0;32mIn[4], line 10\u001b[0;36m in \u001b[0;35mcompare_performance\u001b[0;36m\n\u001b[0;31m    exec(optimized_code, globals(), optimized_locals)\u001b[0;36m\n",
      "\u001b[0;36m  File \u001b[0;32m<string>:1\u001b[0;36m\u001b[0m\n\u001b[0;31m    You can do it! Just use a hash table.\u001b[0m\n\u001b[0m        ^\u001b[0m\n\u001b[0;31mSyntaxError\u001b[0m\u001b[0;31m:\u001b[0m invalid syntax\n"
     ]
    }
   ],
   "source": [
    "# Test the performance\n",
    "test_data = list(range(1000)) * 2  # Create list with duplicates\n",
    "results = compare_performance(slow_code, optimized, test_data)\n",
    "\n",
    "# Visualize results\n",
    "plt.figure(figsize=(10, 5))\n",
    "plt.bar(['Original', 'Optimized'], \n",
    "        [results['original_time'], results['optimized_time']])\n",
    "plt.title('Performance Comparison')\n",
    "plt.ylabel('Execution Time (seconds)')\n",
    "plt.show()\n",
    "\n",
    "print(f\"Speedup factor: {results['speedup']:.2f}x\")"
   ]
  },
  {
   "cell_type": "code",
   "execution_count": null,
   "metadata": {
    "vscode": {
     "languageId": "plaintext"
    }
   },
   "outputs": [],
   "source": []
  }
 ],
 "metadata": {
  "kernelspec": {
   "display_name": "Python 3 (ipykernel)",
   "language": "python",
   "name": "python3"
  },
  "language_info": {
   "codemirror_mode": {
    "name": "ipython",
    "version": 3
   },
   "file_extension": ".py",
   "mimetype": "text/x-python",
   "name": "python",
   "nbconvert_exporter": "python",
   "pygments_lexer": "ipython3",
   "version": "3.11.2"
  }
 },
 "nbformat": 4,
 "nbformat_minor": 4
}
