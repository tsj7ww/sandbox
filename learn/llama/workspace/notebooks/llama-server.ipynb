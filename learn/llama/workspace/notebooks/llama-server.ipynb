{
 "cells": [
  {
   "cell_type": "code",
   "execution_count": 5,
   "id": "c01d5fef-1cb6-4413-8fb9-797164ccc48f",
   "metadata": {},
   "outputs": [],
   "source": [
    "import requests\n",
    "import json\n",
    "import sys"
   ]
  },
  {
   "cell_type": "code",
   "execution_count": null,
   "id": "bf0d8bb8-5c3e-479a-97fc-3dd9765ed464",
   "metadata": {},
   "outputs": [],
   "source": []
  },
  {
   "cell_type": "code",
   "execution_count": null,
   "id": "dde1f778-efef-4d93-a860-dc89494cb511",
   "metadata": {},
   "outputs": [],
   "source": []
  },
  {
   "cell_type": "code",
   "execution_count": 2,
   "id": "ee501b09-6951-47e2-98ca-00d1dfd5c8d6",
   "metadata": {},
   "outputs": [],
   "source": [
    "def test_llama_server_direct():\n",
    "    # Base URL for the llama.cpp server\n",
    "    base_url = \"http://localhost:8080\"\n",
    "    \n",
    "    # Test completion endpoint directly\n",
    "    completion_url = f\"{base_url}/completion\"\n",
    "    \n",
    "    # Example prompt\n",
    "    data = {\n",
    "        \"prompt\": \"What is the capital of France?\",\n",
    "        \"n_predict\": 100,          # Number of tokens to predict\n",
    "        \"temperature\": 0.7,        # Randomness (0.0 - 1.0)\n",
    "        \"stop\": [\"\\n\\n\"],         # Stop sequences\n",
    "        \"stream\": False           # Get complete response at once\n",
    "    }\n",
    "    \n",
    "    try:\n",
    "        # Make the request\n",
    "        response = requests.post(completion_url, json=data)\n",
    "        \n",
    "        if response.status_code == 200:\n",
    "            result = response.json()\n",
    "            print(\"Response:\", result['content'])\n",
    "            print(\"\\nExtra info:\")\n",
    "            print(f\"Tokens processed: {result.get('tokens_predicted', 0)}\")\n",
    "            print(f\"Time taken: {result.get('timings', {}).get('predicted_ms', 0)}ms\")\n",
    "        else:\n",
    "            print(f\"Error: Server returned status code {response.status_code}\")\n",
    "            print(response.text)\n",
    "            \n",
    "    except Exception as e:\n",
    "        print(f\"Error occurred: {str(e)}\", file=sys.stderr)\n",
    "        sys.exit(1)"
   ]
  },
  {
   "cell_type": "code",
   "execution_count": 3,
   "id": "78a07130-40d3-4d86-ad12-9fd298f0a73a",
   "metadata": {},
   "outputs": [],
   "source": [
    "def get_server_stats():\n",
    "    try:\n",
    "        response = requests.get(\"http://localhost:8080/stats\")\n",
    "        if response.status_code == 200:\n",
    "            stats = response.json()\n",
    "            print(\"\\nServer Stats:\")\n",
    "            print(f\"Loaded model: {stats.get('model_name', 'unknown')}\")\n",
    "            print(f\"RAM used: {stats.get('system_ram', 0) / (1024*1024*1024):.2f} GB\")\n",
    "            return stats\n",
    "        return None\n",
    "    except Exception as e:\n",
    "        print(f\"Couldn't get server stats: {str(e)}\")\n",
    "        return None"
   ]
  },
  {
   "cell_type": "code",
   "execution_count": null,
   "id": "afa43f09-4ce3-451c-83de-15f4efb4c797",
   "metadata": {},
   "outputs": [],
   "source": []
  },
  {
   "cell_type": "code",
   "execution_count": null,
   "id": "6d710820-0540-439c-be84-9c515ba71437",
   "metadata": {},
   "outputs": [],
   "source": []
  },
  {
   "cell_type": "code",
   "execution_count": 4,
   "id": "74aa38eb-2bc0-4c45-959f-a81f52205791",
   "metadata": {},
   "outputs": [
    {
     "name": "stdout",
     "output_type": "stream",
     "text": [
      "Couldn't get server stats: HTTPConnectionPool(host='localhost', port=8080): Max retries exceeded with url: /stats (Caused by NewConnectionError('<urllib3.connection.HTTPConnection object at 0xffff80591b50>: Failed to establish a new connection: [Errno 111] Connection refused'))\n",
      "\n",
      "Testing completion:\n"
     ]
    },
    {
     "name": "stderr",
     "output_type": "stream",
     "text": [
      "Error occurred: HTTPConnectionPool(host='localhost', port=8080): Max retries exceeded with url: /completion (Caused by NewConnectionError('<urllib3.connection.HTTPConnection object at 0xffff80593990>: Failed to establish a new connection: [Errno 111] Connection refused'))\n"
     ]
    },
    {
     "ename": "SystemExit",
     "evalue": "1",
     "output_type": "error",
     "traceback": [
      "An exception has occurred, use %tb to see the full traceback.\n",
      "\u001b[0;31mSystemExit\u001b[0m\u001b[0;31m:\u001b[0m 1\n"
     ]
    },
    {
     "name": "stderr",
     "output_type": "stream",
     "text": [
      "/home/jupyter/venv/lib/python3.11/site-packages/IPython/core/interactiveshell.py:3585: UserWarning: To exit: use 'exit', 'quit', or Ctrl-D.\n",
      "  warn(\"To exit: use 'exit', 'quit', or Ctrl-D.\", stacklevel=1)\n"
     ]
    }
   ],
   "source": [
    "if __name__ == \"__main__\":\n",
    "    # Get server stats first\n",
    "    get_server_stats()\n",
    "    \n",
    "    # Run the completion test\n",
    "    print(\"\\nTesting completion:\")\n",
    "    test_llama_server_direct()"
   ]
  },
  {
   "cell_type": "code",
   "execution_count": null,
   "id": "31aaeed8-f5ca-4068-8265-3f70cdbf8792",
   "metadata": {},
   "outputs": [],
   "source": []
  },
  {
   "cell_type": "code",
   "execution_count": null,
   "id": "782b9764-b62e-4997-81d0-39cecda1b3cf",
   "metadata": {},
   "outputs": [],
   "source": []
  },
  {
   "cell_type": "code",
   "execution_count": null,
   "id": "c999c033-fadb-44cd-9117-606bcd5ada44",
   "metadata": {},
   "outputs": [],
   "source": []
  },
  {
   "cell_type": "code",
   "execution_count": null,
   "id": "865e9cf1-7461-46d8-ae5c-45c7ed32d52f",
   "metadata": {},
   "outputs": [],
   "source": []
  }
 ],
 "metadata": {
  "kernelspec": {
   "display_name": "Python 3 (ipykernel)",
   "language": "python",
   "name": "python3"
  },
  "language_info": {
   "codemirror_mode": {
    "name": "ipython",
    "version": 3
   },
   "file_extension": ".py",
   "mimetype": "text/x-python",
   "name": "python",
   "nbconvert_exporter": "python",
   "pygments_lexer": "ipython3",
   "version": "3.11.2"
  }
 },
 "nbformat": 4,
 "nbformat_minor": 5
}
