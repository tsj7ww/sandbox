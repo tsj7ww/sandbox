{
 "cells": [
  {
   "cell_type": "code",
   "execution_count": 17,
   "metadata": {},
   "outputs": [],
   "source": [
    "import datetime\n",
    "import os\n",
    "import io\n",
    "import re\n",
    "import json\n",
    "import numpy as np\n",
    "import pandas as pd\n",
    "import scipy.stats\n",
    "import boto3"
   ]
  },
  {
   "cell_type": "code",
   "execution_count": 90,
   "metadata": {},
   "outputs": [],
   "source": [
    "def CONFIG():\n",
    "    \"\"\"\"\"\"\n",
    "    _pid = 'analysis-covid19'\n",
    "    _now = datetime.datetime.now()\n",
    "    _cwd = os.getcwd()\n",
    "    _data = os.path.join(_cwd,'data')\n",
    "    \n",
    "    _cfg = {\n",
    "        'data': _data\n",
    "        ,'csse': os.path.join(_data,'csse-dly','{DT}.csv')\n",
    "        ,'csse-us': os.path.join(_data,'csse-dly-us','{DT}.csv')\n",
    "        ,'csse-ts': {\n",
    "            'base': os.path.join(_data,'csse-ts','time_series_covid19_{STAT}_{RGN}.csv')\n",
    "            ,'options': {\n",
    "                'stat': ['confirmed','deaths','recovered']\n",
    "                ,'rgn': ['global','US']\n",
    "            }\n",
    "            ,'errata': 'errata.csv'\n",
    "        }\n",
    "        ,'who-ts': os.path.join(_data,'who-ts','who_covid_19_sit_rep_time_series.csv')\n",
    "    }\n",
    "    \n",
    "    return _cfg\n",
    "\n",
    "CFG = CONFIG()"
   ]
  },
  {
   "cell_type": "code",
   "execution_count": 91,
   "metadata": {},
   "outputs": [],
   "source": [
    "def CSSE_DLY(base,start=datetime.date(2020,4,12),end=datetime.date(2020,4,30)):\n",
    "    \"\"\"\"\"\"\n",
    "    _file = '%m-%d-%Y'\n",
    "    _fmt = '%Y%m%d'\n",
    "    df = None\n",
    "    gaps = []\n",
    "    \n",
    "    for i in range((end-start).days+1):\n",
    "        dt = (start+datetime.timedelta(days=i))\n",
    "        if df is not None:\n",
    "            try:\n",
    "                df.append(pd.read_csv(base.format(DT=dt.strftime(_file)),header=0).assign(data_dt=dt.strftime(_fmt)))\n",
    "            except Exception as e:\n",
    "                gaps.append((dt,str(e)))\n",
    "        else:\n",
    "            try:\n",
    "                df = pd.read_csv(base.format(DT=dt.strftime(_file)),header=0).assign(data_dt=dt.strftime(_fmt))\n",
    "            except Exception as e:\n",
    "                gaps.append((dt,str(e)))\n",
    "    \n",
    "    return df # gaps"
   ]
  },
  {
   "cell_type": "code",
   "execution_count": null,
   "metadata": {},
   "outputs": [],
   "source": [
    "def CSSE_TS(path):\n",
    "    \"\"\"\"\"\"\n",
    "    df = None\n",
    "    \n",
    "    return df"
   ]
  },
  {
   "cell_type": "code",
   "execution_count": 92,
   "metadata": {},
   "outputs": [],
   "source": [
    "def CLEANER(df):\n",
    "    \"\"\"\"\"\"\n",
    "    def _COLS(x):\n",
    "        \"\"\"\"\"\"\n",
    "        if not x[0].isalnum():\n",
    "            x=x[1:]\n",
    "        if not x[-1].isalnum():\n",
    "            x=x[:-1]\n",
    "        return x.upper()\n",
    "    # cols\n",
    "    df.columns = map(lambda x: _COLS(x),df.columns)\n",
    "    \n",
    "    return df"
   ]
  },
  {
   "cell_type": "code",
   "execution_count": 93,
   "metadata": {},
   "outputs": [],
   "source": [
    "if __name__=='__main__':\n",
    "# def MAIN():\n",
    "#     \"\"\"\"\"\"\n",
    "    data = {\n",
    "        'csse': None,\n",
    "        'csse-us': None,\n",
    "        'csse-ts': None,\n",
    "        'who-ts': None\n",
    "    }\n",
    "    ERRS = []\n",
    "    CFG = CONFIG()\n",
    "    \n",
    "    data['csse'] = CLEANER(CSSE_DLY(CFG['csse']))\n",
    "    data['csse-us']  = CLEANER(CSSE_DLY(CFG['csse-us']))\n",
    "    data['csse-ts'] = CLEANER(pd.read_csv(CFG['csse-ts']['base'].format(STAT='confirmed',RGN='US'),header=0)) # ['confirmed-us']\n",
    "    data['who-ts'] = CLEANER(pd.read_csv(CFG['who-ts'],header=0))\n",
    "    \n",
    "#     return data"
   ]
  },
  {
   "cell_type": "code",
   "execution_count": null,
   "metadata": {},
   "outputs": [],
   "source": []
  },
  {
   "cell_type": "code",
   "execution_count": null,
   "metadata": {},
   "outputs": [],
   "source": []
  },
  {
   "cell_type": "code",
   "execution_count": null,
   "metadata": {},
   "outputs": [],
   "source": []
  },
  {
   "cell_type": "code",
   "execution_count": null,
   "metadata": {},
   "outputs": [],
   "source": []
  },
  {
   "cell_type": "code",
   "execution_count": null,
   "metadata": {},
   "outputs": [],
   "source": []
  },
  {
   "cell_type": "code",
   "execution_count": null,
   "metadata": {},
   "outputs": [],
   "source": []
  },
  {
   "cell_type": "code",
   "execution_count": null,
   "metadata": {},
   "outputs": [],
   "source": []
  },
  {
   "cell_type": "code",
   "execution_count": null,
   "metadata": {},
   "outputs": [],
   "source": []
  },
  {
   "cell_type": "code",
   "execution_count": null,
   "metadata": {},
   "outputs": [],
   "source": []
  },
  {
   "cell_type": "code",
   "execution_count": null,
   "metadata": {},
   "outputs": [],
   "source": []
  },
  {
   "cell_type": "code",
   "execution_count": null,
   "metadata": {},
   "outputs": [],
   "source": []
  },
  {
   "cell_type": "code",
   "execution_count": null,
   "metadata": {},
   "outputs": [],
   "source": []
  },
  {
   "cell_type": "code",
   "execution_count": null,
   "metadata": {},
   "outputs": [],
   "source": []
  },
  {
   "cell_type": "code",
   "execution_count": null,
   "metadata": {},
   "outputs": [],
   "source": []
  },
  {
   "cell_type": "code",
   "execution_count": null,
   "metadata": {},
   "outputs": [],
   "source": []
  },
  {
   "cell_type": "code",
   "execution_count": null,
   "metadata": {},
   "outputs": [],
   "source": []
  },
  {
   "cell_type": "code",
   "execution_count": null,
   "metadata": {},
   "outputs": [],
   "source": []
  },
  {
   "cell_type": "code",
   "execution_count": null,
   "metadata": {},
   "outputs": [],
   "source": []
  }
 ],
 "metadata": {
  "kernelspec": {
   "display_name": "Python 3",
   "language": "python",
   "name": "python3"
  },
  "language_info": {
   "codemirror_mode": {
    "name": "ipython",
    "version": 3
   },
   "file_extension": ".py",
   "mimetype": "text/x-python",
   "name": "python",
   "nbconvert_exporter": "python",
   "pygments_lexer": "ipython3",
   "version": "3.7.7"
  }
 },
 "nbformat": 4,
 "nbformat_minor": 4
}
