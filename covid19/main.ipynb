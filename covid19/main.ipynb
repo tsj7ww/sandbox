{
 "cells": [
  {
   "cell_type": "code",
   "execution_count": 17,
   "metadata": {},
   "outputs": [],
   "source": [
    "import datetime\n",
    "import os\n",
    "import io\n",
    "import re\n",
    "import json\n",
    "import numpy as np\n",
    "import pandas as pd\n",
    "import scipy.stats\n",
    "# import boto3"
   ]
  },
  {
   "cell_type": "code",
   "execution_count": 195,
   "metadata": {},
   "outputs": [],
   "source": [
    "def CONFIG():\n",
    "    \"\"\"\"\"\"\n",
    "    _pid = 'analysis-covid19'\n",
    "    _now = datetime.datetime.now()\n",
    "    _cwd = os.getcwd()\n",
    "    _data = os.path.join(_cwd,'data')\n",
    "    \n",
    "    _cfg = {\n",
    "        'data': _data\n",
    "        ,'eda': os.path.join(_cwd,'eda')\n",
    "        ,'csse': os.path.join(_data,'csse-dly','{DT}.csv')\n",
    "        ,'csse-us': os.path.join(_data,'csse-dly-us','{DT}.csv')\n",
    "        ,'csse-ts': {\n",
    "            'base': os.path.join(_data,'csse-ts','time_series_covid19_{STAT}_{RGN}.csv')\n",
    "            ,'options': {\n",
    "                'stat': ['confirmed','deaths','recovered']\n",
    "                ,'rgn': ['global','US']\n",
    "            }\n",
    "            ,'errata': os.path.join(_data,'csse-ts','Errata.csv')\n",
    "        }\n",
    "        ,'who-ts': os.path.join(_data,'who-ts','who_covid_19_sit_rep_time_series.csv')\n",
    "        ,'fips': os.path.join(_data,'csse-fips-lkup.csv')\n",
    "    }\n",
    "    \n",
    "    return _cfg\n",
    "\n",
    "CFG = CONFIG()"
   ]
  },
  {
   "cell_type": "code",
   "execution_count": 221,
   "metadata": {},
   "outputs": [],
   "source": [
    "def CSSE_DLY(base,start=datetime.date(2020,4,12),end=datetime.date(2020,4,30)):\n",
    "    \"\"\"\"\"\"\n",
    "    _file = '%m-%d-%Y'\n",
    "    _fmt = '%Y%m%d'\n",
    "    df = None\n",
    "    gaps = []\n",
    "    \n",
    "    for i in range((end-start).days+1):\n",
    "        dt = (start+datetime.timedelta(days=i))\n",
    "        if df is not None:\n",
    "            try:\n",
    "                df = df.append(pd.read_csv(base.format(DT=dt.strftime(_file)),header=0).assign(data_dt=dt))\n",
    "            except Exception as e:\n",
    "                gaps.append((dt,str(e)))\n",
    "        else:\n",
    "            try:\n",
    "                df = pd.read_csv(base.format(DT=dt.strftime(_file)),header=0).assign(data_dt=dt)\n",
    "            except Exception as e:\n",
    "                gaps.append((dt,str(e)))\n",
    "    return df # gaps"
   ]
  },
  {
   "cell_type": "code",
   "execution_count": 222,
   "metadata": {},
   "outputs": [],
   "source": [
    "def CLEANER(df):\n",
    "    \"\"\"\"\"\"\n",
    "    def _COLS(x):\n",
    "        \"\"\"\"\"\"\n",
    "        if not x[0].isalnum():\n",
    "            x=x[1:]\n",
    "        if not x[-1].isalnum():\n",
    "            x=x[:-1]\n",
    "        return x.upper()\n",
    "    # cols\n",
    "    df.columns = map(lambda x: _COLS(x),df.columns)\n",
    "    \n",
    "    return df"
   ]
  },
  {
   "cell_type": "code",
   "execution_count": 227,
   "metadata": {},
   "outputs": [],
   "source": [
    "def EDA(df,name,n=100,path=None):\n",
    "    \"\"\"\"\"\"\n",
    "    if not path:\n",
    "        path=os.path.join(os.getcwd(),'eda')\n",
    "    \n",
    "    lb = '\\n'\n",
    "    lblb = '\\n\\n'\n",
    "    \n",
    "    # columns & types\n",
    "    content = '# EDA - {} Files {}'.format(os.path.basename(name).upper(),lblb)\n",
    "    content+='#### Column Name [IDX] -  Dtype (Head / Tail) \\n'\n",
    "    dtypes = df.dtypes.to_dict()\n",
    "    head = df.head(1).T.iloc[:,0].to_list() # to_dict() - head.get(j)\n",
    "    tail = df.tail(1).T.iloc[:,0].to_list() # to_dict() - tail.get(j)\n",
    "    for i,j in enumerate(df.columns):\n",
    "        content+='- **{}** [{}] - {} ({} / {}) {}'.format(j, i, dtypes.get(j), head[i], tail[i], lb)\n",
    "    \n",
    "    # html\n",
    "    content+='{}#### Head / Tail [n={}] Sample {}'.format(lb+lblb,n,lblb)\n",
    "    content+=(df.head(n).append(df.tail(n)).to_html(None,index=True,header=True))\n",
    "    \n",
    "    with open(os.path.join(path,'{}.md'.format(name)),'w') as f:\n",
    "        f.write(content)\n",
    "\n",
    "    # html data sample\n",
    "#     df.head(n).append(df.tail(n)).to_html(os.path.join(path,'{}.html'.format(name)),index=True,header=True)"
   ]
  },
  {
   "cell_type": "code",
   "execution_count": 228,
   "metadata": {},
   "outputs": [],
   "source": [
    "if __name__=='__main__':\n",
    "# def MAIN():\n",
    "#     \"\"\"\"\"\"\n",
    "    data = {\n",
    "        'csse': None,\n",
    "        'csse-us': None,\n",
    "        'csse-ts': None,\n",
    "        'who-ts': None,\n",
    "        'csse-ts-err': None,\n",
    "        'fips': None\n",
    "    }\n",
    "    ERRS = []\n",
    "    CFG = CONFIG()\n",
    "    \n",
    "    data['csse'] = CLEANER(CSSE_DLY(CFG['csse']))\n",
    "    data['csse-us']  = CLEANER(CSSE_DLY(CFG['csse-us']))\n",
    "    data['csse-ts'] = CLEANER(pd.read_csv(CFG['csse-ts']['base'].format(STAT='confirmed',RGN='US'),header=0)) # ['confirmed-us']\n",
    "    data['who-ts'] = CLEANER(pd.read_csv(CFG['who-ts'],header=0))\n",
    "    data['csse-ts-err'] = CLEANER(pd.read_csv(CFG['csse-ts']['errata'],header=0))\n",
    "    data['fips'] = CLEANER(pd.read_csv(CFG['fips'],header=0))\n",
    "    \n",
    "    for k in data.keys():\n",
    "        EDA(data[k],k,n=20)\n",
    "        \n",
    "#     return data"
   ]
  },
  {
   "cell_type": "code",
   "execution_count": null,
   "metadata": {},
   "outputs": [],
   "source": []
  },
  {
   "cell_type": "code",
   "execution_count": null,
   "metadata": {},
   "outputs": [],
   "source": []
  },
  {
   "cell_type": "code",
   "execution_count": null,
   "metadata": {},
   "outputs": [],
   "source": []
  },
  {
   "cell_type": "code",
   "execution_count": null,
   "metadata": {},
   "outputs": [],
   "source": []
  },
  {
   "cell_type": "code",
   "execution_count": null,
   "metadata": {},
   "outputs": [],
   "source": []
  },
  {
   "cell_type": "code",
   "execution_count": null,
   "metadata": {},
   "outputs": [],
   "source": []
  },
  {
   "cell_type": "code",
   "execution_count": null,
   "metadata": {},
   "outputs": [],
   "source": []
  },
  {
   "cell_type": "code",
   "execution_count": null,
   "metadata": {},
   "outputs": [],
   "source": []
  },
  {
   "cell_type": "code",
   "execution_count": null,
   "metadata": {},
   "outputs": [],
   "source": []
  },
  {
   "cell_type": "code",
   "execution_count": null,
   "metadata": {},
   "outputs": [],
   "source": []
  },
  {
   "cell_type": "code",
   "execution_count": null,
   "metadata": {},
   "outputs": [],
   "source": []
  },
  {
   "cell_type": "code",
   "execution_count": null,
   "metadata": {},
   "outputs": [],
   "source": []
  },
  {
   "cell_type": "code",
   "execution_count": null,
   "metadata": {},
   "outputs": [],
   "source": []
  },
  {
   "cell_type": "code",
   "execution_count": null,
   "metadata": {},
   "outputs": [],
   "source": []
  },
  {
   "cell_type": "code",
   "execution_count": null,
   "metadata": {},
   "outputs": [],
   "source": []
  },
  {
   "cell_type": "code",
   "execution_count": null,
   "metadata": {},
   "outputs": [],
   "source": []
  }
 ],
 "metadata": {
  "kernelspec": {
   "display_name": "Python 3",
   "language": "python",
   "name": "python3"
  },
  "language_info": {
   "codemirror_mode": {
    "name": "ipython",
    "version": 3
   },
   "file_extension": ".py",
   "mimetype": "text/x-python",
   "name": "python",
   "nbconvert_exporter": "python",
   "pygments_lexer": "ipython3",
   "version": "3.7.7"
  }
 },
 "nbformat": 4,
 "nbformat_minor": 4
}
