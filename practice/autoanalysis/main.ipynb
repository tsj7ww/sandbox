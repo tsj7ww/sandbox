{
 "cells": [
  {
   "cell_type": "code",
   "execution_count": 2,
   "metadata": {},
   "outputs": [],
   "source": [
    "import pandas as pd\n",
    "\n",
    "import xgboost as xgb\n",
    "from sklearn.model_selection import train_test_split,GridSearchCV\n",
    "from sklearn.metrics import mean_squared_error,r2_score\n",
    "from sklearn.pipeline import Pipeline\n",
    "\n",
    "from database import Database"
   ]
  },
  {
   "cell_type": "code",
   "execution_count": 3,
   "metadata": {},
   "outputs": [],
   "source": [
    "db = Database('economic')"
   ]
  },
  {
   "cell_type": "code",
   "execution_count": null,
   "metadata": {},
   "outputs": [],
   "source": []
  },
  {
   "cell_type": "code",
   "execution_count": null,
   "metadata": {},
   "outputs": [],
   "source": []
  },
  {
   "cell_type": "code",
   "execution_count": null,
   "metadata": {},
   "outputs": [],
   "source": []
  },
  {
   "cell_type": "code",
   "execution_count": 5,
   "metadata": {},
   "outputs": [
    {
     "name": "stderr",
     "output_type": "stream",
     "text": [
      "/var/folders/h4/m2b0xv3516j0m7h2zxr_r9d80000gn/T/ipykernel_36587/356118361.py:1: UserWarning: pandas only supports SQLAlchemy connectable (engine/connection) or database string URI or sqlite3 DBAPI2 connection. Other DBAPI2 objects are not tested. Please consider using SQLAlchemy.\n",
      "  df = pd.read_sql('select * from base.fred_metrics_data',db.conn)\n"
     ]
    }
   ],
   "source": [
    "df = pd.read_sql('select * from base.fred_metrics_data',db.conn)"
   ]
  },
  {
   "cell_type": "code",
   "execution_count": 8,
   "metadata": {},
   "outputs": [
    {
     "data": {
      "text/html": [
       "<div>\n",
       "<style scoped>\n",
       "    .dataframe tbody tr th:only-of-type {\n",
       "        vertical-align: middle;\n",
       "    }\n",
       "\n",
       "    .dataframe tbody tr th {\n",
       "        vertical-align: top;\n",
       "    }\n",
       "\n",
       "    .dataframe thead th {\n",
       "        text-align: right;\n",
       "    }\n",
       "</style>\n",
       "<table border=\"1\" class=\"dataframe\">\n",
       "  <thead>\n",
       "    <tr style=\"text-align: right;\">\n",
       "      <th></th>\n",
       "      <th>metric</th>\n",
       "      <th>metric_dt</th>\n",
       "      <th>metric_id</th>\n",
       "      <th>topic</th>\n",
       "    </tr>\n",
       "  </thead>\n",
       "  <tbody>\n",
       "    <tr>\n",
       "      <th>285566</th>\n",
       "      <td>1.9</td>\n",
       "      <td>1985-01-01 00:00:00</td>\n",
       "      <td>CORCCACBS</td>\n",
       "      <td>charge off</td>\n",
       "    </tr>\n",
       "    <tr>\n",
       "      <th>285567</th>\n",
       "      <td>2.26</td>\n",
       "      <td>1985-04-01 00:00:00</td>\n",
       "      <td>CORCCACBS</td>\n",
       "      <td>charge off</td>\n",
       "    </tr>\n",
       "    <tr>\n",
       "      <th>285568</th>\n",
       "      <td>2.68</td>\n",
       "      <td>1985-07-01 00:00:00</td>\n",
       "      <td>CORCCACBS</td>\n",
       "      <td>charge off</td>\n",
       "    </tr>\n",
       "    <tr>\n",
       "      <th>285569</th>\n",
       "      <td>2.92</td>\n",
       "      <td>1985-10-01 00:00:00</td>\n",
       "      <td>CORCCACBS</td>\n",
       "      <td>charge off</td>\n",
       "    </tr>\n",
       "    <tr>\n",
       "      <th>285570</th>\n",
       "      <td>3.14</td>\n",
       "      <td>1986-01-01 00:00:00</td>\n",
       "      <td>CORCCACBS</td>\n",
       "      <td>charge off</td>\n",
       "    </tr>\n",
       "    <tr>\n",
       "      <th>...</th>\n",
       "      <td>...</td>\n",
       "      <td>...</td>\n",
       "      <td>...</td>\n",
       "      <td>...</td>\n",
       "    </tr>\n",
       "    <tr>\n",
       "      <th>285714</th>\n",
       "      <td>1.71</td>\n",
       "      <td>2022-01-01 00:00:00</td>\n",
       "      <td>CORCCACBS</td>\n",
       "      <td>charge off</td>\n",
       "    </tr>\n",
       "    <tr>\n",
       "      <th>285715</th>\n",
       "      <td>1.82</td>\n",
       "      <td>2022-04-01 00:00:00</td>\n",
       "      <td>CORCCACBS</td>\n",
       "      <td>charge off</td>\n",
       "    </tr>\n",
       "    <tr>\n",
       "      <th>285716</th>\n",
       "      <td>2.14</td>\n",
       "      <td>2022-07-01 00:00:00</td>\n",
       "      <td>CORCCACBS</td>\n",
       "      <td>charge off</td>\n",
       "    </tr>\n",
       "    <tr>\n",
       "      <th>285717</th>\n",
       "      <td>2.54</td>\n",
       "      <td>2022-10-01 00:00:00</td>\n",
       "      <td>CORCCACBS</td>\n",
       "      <td>charge off</td>\n",
       "    </tr>\n",
       "    <tr>\n",
       "      <th>285718</th>\n",
       "      <td>2.9</td>\n",
       "      <td>2023-01-01 00:00:00</td>\n",
       "      <td>CORCCACBS</td>\n",
       "      <td>charge off</td>\n",
       "    </tr>\n",
       "  </tbody>\n",
       "</table>\n",
       "<p>153 rows × 4 columns</p>\n",
       "</div>"
      ],
      "text/plain": [
       "       metric            metric_dt  metric_id       topic\n",
       "285566    1.9  1985-01-01 00:00:00  CORCCACBS  charge off\n",
       "285567   2.26  1985-04-01 00:00:00  CORCCACBS  charge off\n",
       "285568   2.68  1985-07-01 00:00:00  CORCCACBS  charge off\n",
       "285569   2.92  1985-10-01 00:00:00  CORCCACBS  charge off\n",
       "285570   3.14  1986-01-01 00:00:00  CORCCACBS  charge off\n",
       "...       ...                  ...        ...         ...\n",
       "285714   1.71  2022-01-01 00:00:00  CORCCACBS  charge off\n",
       "285715   1.82  2022-04-01 00:00:00  CORCCACBS  charge off\n",
       "285716   2.14  2022-07-01 00:00:00  CORCCACBS  charge off\n",
       "285717   2.54  2022-10-01 00:00:00  CORCCACBS  charge off\n",
       "285718    2.9  2023-01-01 00:00:00  CORCCACBS  charge off\n",
       "\n",
       "[153 rows x 4 columns]"
      ]
     },
     "execution_count": 8,
     "metadata": {},
     "output_type": "execute_result"
    }
   ],
   "source": [
    "df.loc[df.metric_id=='CORCCACBS']"
   ]
  },
  {
   "cell_type": "code",
   "execution_count": null,
   "metadata": {},
   "outputs": [],
   "source": []
  },
  {
   "cell_type": "code",
   "execution_count": null,
   "metadata": {},
   "outputs": [],
   "source": []
  },
  {
   "cell_type": "code",
   "execution_count": null,
   "metadata": {},
   "outputs": [],
   "source": []
  },
  {
   "cell_type": "code",
   "execution_count": null,
   "metadata": {},
   "outputs": [],
   "source": []
  },
  {
   "cell_type": "code",
   "execution_count": null,
   "metadata": {},
   "outputs": [],
   "source": []
  },
  {
   "cell_type": "code",
   "execution_count": null,
   "metadata": {},
   "outputs": [],
   "source": []
  },
  {
   "cell_type": "code",
   "execution_count": null,
   "metadata": {},
   "outputs": [],
   "source": []
  },
  {
   "cell_type": "code",
   "execution_count": null,
   "metadata": {},
   "outputs": [],
   "source": []
  },
  {
   "cell_type": "code",
   "execution_count": null,
   "metadata": {},
   "outputs": [],
   "source": []
  },
  {
   "cell_type": "code",
   "execution_count": null,
   "metadata": {},
   "outputs": [],
   "source": []
  },
  {
   "cell_type": "code",
   "execution_count": null,
   "metadata": {},
   "outputs": [],
   "source": []
  },
  {
   "cell_type": "code",
   "execution_count": null,
   "metadata": {},
   "outputs": [],
   "source": []
  },
  {
   "cell_type": "code",
   "execution_count": null,
   "metadata": {},
   "outputs": [],
   "source": []
  },
  {
   "cell_type": "code",
   "execution_count": null,
   "metadata": {},
   "outputs": [],
   "source": []
  }
 ],
 "metadata": {
  "kernelspec": {
   "display_name": "base",
   "language": "python",
   "name": "python3"
  },
  "language_info": {
   "codemirror_mode": {
    "name": "ipython",
    "version": 3
   },
   "file_extension": ".py",
   "mimetype": "text/x-python",
   "name": "python",
   "nbconvert_exporter": "python",
   "pygments_lexer": "ipython3",
   "version": "3.9.13"
  },
  "orig_nbformat": 4
 },
 "nbformat": 4,
 "nbformat_minor": 2
}
