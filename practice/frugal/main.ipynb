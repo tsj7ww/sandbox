{
 "cells": [
  {
   "cell_type": "code",
   "execution_count": 1,
   "id": "727dc714",
   "metadata": {},
   "outputs": [],
   "source": [
    "import os\n",
    "import datetime\n",
    "import json\n",
    "import time\n",
    "# web scrape\n",
    "import requests\n",
    "import bs4"
   ]
  },
  {
   "cell_type": "code",
   "execution_count": null,
   "id": "37efb477",
   "metadata": {},
   "outputs": [],
   "source": [
    "class Orchestrator:\n",
    "    \"\"\"\n",
    "    \"\"\"\n",
    "    def __init__(self,name,item_names,price_range,cities,distance):\n",
    "        self.name = name\n",
    "        self.item_names = item_names\n",
    "        self.price_range = price_range\n",
    "        self.distance = distance\n",
    "        \n",
    "        self.base_url = 'https://{CITY}.craigslist.org/search/sss?hasPic=1&sort=rel&min_price={MIN_PRICE}&max_price={MAX_PRICE}&query={ITEM}&search_distance={DISTANCE}'\n",
    "\n",
    "        self.cities = []\n",
    "    \n",
    "    def get_cities(self):\n",
    "        None\n",
    "    \n",
    "    def get_listings(self):\n",
    "        for city in self.cities:\n",
    "            city.get_listings()\n",
    "\n",
    "            for listing in city.listings:\n"
   ]
  },
  {
   "cell_type": "code",
   "execution_count": null,
   "id": "68bc3b17",
   "metadata": {},
   "outputs": [],
   "source": [
    "class Listing:\n",
    "    \"\"\"\n",
    "    \"\"\"\n",
    "    def __init__(self,city,item,parent_url,info):\n",
    "        self.city = city\n",
    "        self.item = item\n",
    "        self.parent_url = parent_url\n",
    "        self.info = info\n",
    "\n",
    "        self.attributes = {}\n",
    "    \n",
    "    def scrape(self):\n",
    "        None"
   ]
  },
  {
   "cell_type": "code",
   "execution_count": null,
   "id": "04992cf9",
   "metadata": {},
   "outputs": [],
   "source": [
    "class City:\n",
    "    \"\"\"\n",
    "    \"\"\"\n",
    "    def __init__(self,item,city,urls):\n",
    "        self.item = item\n",
    "        self.city = city\n",
    "        self.urls = urls\n",
    "        self.listings = []\n",
    "    \n",
    "    def get_listings(self):\n",
    "        \"\"\"\n",
    "        \"\"\"\n",
    "        for url in self.urls:\n",
    "            response = requests.get(url)\n",
    "            soup = bs4.BeautifulSoup(response.text, 'html.parser')\n",
    "            listings = soup.find_all('li', class_='result-row')\n",
    "            for listing in listings:\n",
    "                pkg = {'city':self.city,'item':self.item,'parent_url':url,'info':listing}\n",
    "                self.listings.append(Listing(**pkg))"
   ]
  },
  {
   "cell_type": "code",
   "execution_count": 2,
   "id": "c5da690f-275f-46f7-86c4-077f87965ab8",
   "metadata": {},
   "outputs": [],
   "source": [
    "class Orchestrator:\n",
    "    \"\"\"\n",
    "    \"\"\"\n",
    "    \n",
    "    def __init__(self,name,item_names,price_range,cities,distance):\n",
    "        self.name = name\n",
    "        self.item_names = item_names\n",
    "        self.price_range = price_range\n",
    "        self.cities = cities\n",
    "        self.distance = distance\n",
    "        \n",
    "        self.base_url = 'https://{CITY}.craigslist.org/search/sss?hasPic=1&sort=rel&min_price={MIN_PRICE}&max_price={MAX_PRICE}&query={ITEM}&search_distance={DISTANCE}'\n",
    "        \n",
    "        self.urls = {\n",
    "            city: [\n",
    "                self.search_url.format(\n",
    "                    CITY = city,\n",
    "                    MIN_PRICE = self.price_range[0],\n",
    "                    MAX_PRICE = self.price_range[1],\n",
    "                    ITEM = item_name.replace(' ','%20'),\n",
    "                    DISTANCE = self.distance,\n",
    "                ) for item_name in self.item_names\n",
    "            ] for city in self.cities\n",
    "        }\n",
    "        \n",
    "        self.available = []\n",
    "    \n",
    "    def run(self):\n",
    "        links = {}\n",
    "        for city,urls in self.urls.items():\n",
    "            links[city] = []\n",
    "            for url in urls:\n",
    "                r = requests.get(url)\n",
    "                soup = bs4.BeautifulSoup(r.text,'html.parser')\n",
    "                for row in soup.find_all(name='li', attrs={'class':'result-row'}):\n",
    "                    links[city].append(row.find(name='a',attrs={'class':'result-title hdrlnk'})['href'])\n",
    "        self.available = links"
   ]
  },
  {
   "cell_type": "code",
   "execution_count": null,
   "id": "e2619d37-21d0-4d53-9afe-a4676ecba963",
   "metadata": {},
   "outputs": [],
   "source": []
  },
  {
   "cell_type": "code",
   "execution_count": 4,
   "id": "c42aa5dc-eb84-4869-848b-b543686cc597",
   "metadata": {},
   "outputs": [
    {
     "data": {
      "text/plain": [
       "{'washingtondc': ['https://washingtondc.craigslist.org/search/sss?hasPic=1&sort=rel&min_price=2000&max_price=5000&query=hobie%20cat&search_distance=50',\n",
       "  'https://washingtondc.craigslist.org/search/sss?hasPic=1&sort=rel&min_price=2000&max_price=5000&query=hobie%20cat%20wave%2016&search_distance=50'],\n",
       " 'richmond': ['https://richmond.craigslist.org/search/sss?hasPic=1&sort=rel&min_price=2000&max_price=5000&query=hobie%20cat&search_distance=50',\n",
       "  'https://richmond.craigslist.org/search/sss?hasPic=1&sort=rel&min_price=2000&max_price=5000&query=hobie%20cat%20wave%2016&search_distance=50'],\n",
       " 'norfolk': ['https://norfolk.craigslist.org/search/sss?hasPic=1&sort=rel&min_price=2000&max_price=5000&query=hobie%20cat&search_distance=50',\n",
       "  'https://norfolk.craigslist.org/search/sss?hasPic=1&sort=rel&min_price=2000&max_price=5000&query=hobie%20cat%20wave%2016&search_distance=50'],\n",
       " 'fredericksburg': ['https://fredericksburg.craigslist.org/search/sss?hasPic=1&sort=rel&min_price=2000&max_price=5000&query=hobie%20cat&search_distance=50',\n",
       "  'https://fredericksburg.craigslist.org/search/sss?hasPic=1&sort=rel&min_price=2000&max_price=5000&query=hobie%20cat%20wave%2016&search_distance=50'],\n",
       " 'boston': ['https://boston.craigslist.org/search/sss?hasPic=1&sort=rel&min_price=2000&max_price=5000&query=hobie%20cat&search_distance=50',\n",
       "  'https://boston.craigslist.org/search/sss?hasPic=1&sort=rel&min_price=2000&max_price=5000&query=hobie%20cat%20wave%2016&search_distance=50']}"
      ]
     },
     "execution_count": 4,
     "metadata": {},
     "output_type": "execute_result"
    }
   ],
   "source": [
    "hobie.urls"
   ]
  },
  {
   "cell_type": "code",
   "execution_count": 3,
   "id": "6d17ce46-3d3f-4c9f-970a-e0b5fef93e25",
   "metadata": {},
   "outputs": [
    {
     "data": {
      "text/plain": [
       "{'washingtondc': [],\n",
       " 'richmond': [],\n",
       " 'norfolk': [],\n",
       " 'fredericksburg': [],\n",
       " 'boston': []}"
      ]
     },
     "execution_count": 3,
     "metadata": {},
     "output_type": "execute_result"
    }
   ],
   "source": [
    "hobie_params = {\n",
    "    'name': 'hobie cat',\n",
    "    'price_range': (2000,5000),\n",
    "    'cities': ['washingtondc','richmond','norfolk','fredericksburg','boston',],\n",
    "    'distance': '50',\n",
    "    'item_names': ['hobie cat','hobie cat wave 16']\n",
    "}\n",
    "hobie = Finder(**hobie_params)\n",
    "hobie.run()\n",
    "hobie.available"
   ]
  },
  {
   "cell_type": "code",
   "execution_count": null,
   "id": "76d82a89-17fc-439c-8441-23c8a9cfa75b",
   "metadata": {},
   "outputs": [],
   "source": []
  },
  {
   "cell_type": "code",
   "execution_count": null,
   "id": "199ab68f-b83f-425f-a04e-34434edcce3e",
   "metadata": {},
   "outputs": [],
   "source": []
  },
  {
   "cell_type": "code",
   "execution_count": null,
   "id": "7d1446e5-7b40-4f74-8634-a23c4d13c14a",
   "metadata": {},
   "outputs": [],
   "source": []
  }
 ],
 "metadata": {
  "kernelspec": {
   "display_name": "Python 3 (ipykernel)",
   "language": "python",
   "name": "python3"
  },
  "language_info": {
   "codemirror_mode": {
    "name": "ipython",
    "version": 3
   },
   "file_extension": ".py",
   "mimetype": "text/x-python",
   "name": "python",
   "nbconvert_exporter": "python",
   "pygments_lexer": "ipython3",
   "version": "3.9.13"
  }
 },
 "nbformat": 4,
 "nbformat_minor": 5
}
