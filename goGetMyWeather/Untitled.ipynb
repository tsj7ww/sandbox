{
 "cells": [
  {
   "cell_type": "code",
   "execution_count": 78,
   "metadata": {},
   "outputs": [],
   "source": [
    "package main\n",
    "import (\n",
    "  // std\n",
    "    \"fmt\"\n",
    "    \"io/ioutil\"\n",
    "    \"os\"\n",
    "  // web\n",
    "\t\"encoding/json\"\n",
    "\t\"net/http\"\n",
    "  // aws\n",
    "\t\"github.com/aws/aws-lambda-go/events\"\n",
    "\t\"github.com/aws/aws-lambda-go/lambda\"\n",
    ")"
   ]
  },
  {
   "cell_type": "code",
   "execution_count": 79,
   "metadata": {},
   "outputs": [],
   "source": [
    "// remote weather api url\n",
    "const apiUrl = \"https://www.metaweather.com/api/location/\"\n",
    "\n",
    "// message we'll receive from the client\n",
    "type Event struct {\n",
    "\tWoeID string `json:\"woeid\"`\n",
    "}\n",
    "\n",
    "// raw data from the remote weather api\n",
    "type rawWeatherData struct {\n",
    "\tConsolidatedWeather []struct {\n",
    "\t\tWeatherStateName string  `json:\"weather_state_name\"`\n",
    "\t\tMinTemp          float64 `json:\"min_temp\"`\n",
    "\t\tMaxTemp          float64 `json:\"max_temp\"`\n",
    "\t\tHumidity         int     `json:\"humidity\"`\n",
    "\t\tPredictability   int     `json:\"predictability\"`\n",
    "\t} `json:\"consolidated_weather\"`\n",
    "\tTitle        string `json:\"title\"`\n",
    "\tLocationType string `json:\"location_type\"`\n",
    "\tWoeid        int    `json:\"woeid\"`\n",
    "\tLattLong     string `json:\"latt_long\"`\n",
    "}\n",
    "\n",
    "// message we will send to the client\n",
    "type WeatherData struct {\n",
    "\tWeatherStateName string  `json:\"weather_state_name\"`\n",
    "\tMinTemp          float64 `json:\"min_temp\"`\n",
    "\tMaxTemp          float64 `json:\"max_temp\"`\n",
    "\tTitle            string  `json:\"title\"`\n",
    "\tLattLong         string  `json:\"latt_long\"`\n",
    "}"
   ]
  },
  {
   "cell_type": "code",
   "execution_count": 80,
   "metadata": {},
   "outputs": [],
   "source": [
    "func returnHighestPredictability(data *rawWeatherData) (*WeatherData, error) {\n",
    "\thighestPredictability := 0\n",
    "\tvar predictabilityIndex int\n",
    "\n",
    "\tfor i, p := range data.ConsolidatedWeather {\n",
    "\t\tif p.Predictability > highestPredictability {\n",
    "\t\t\thighestPredictability = p.Predictability\n",
    "\t\t\tpredictabilityIndex = i\n",
    "\t\t}\n",
    "\t}\n",
    "\n",
    "\tcleanedData := &WeatherData{\n",
    "\t\tWeatherStateName: data.ConsolidatedWeather[predictabilityIndex].WeatherStateName,\n",
    "\t\tMinTemp:          data.ConsolidatedWeather[predictabilityIndex].MinTemp,\n",
    "\t\tMaxTemp:          data.ConsolidatedWeather[predictabilityIndex].MaxTemp,\n",
    "\t\tTitle:            data.Title,\n",
    "\t\tLattLong:         data.LattLong,\n",
    "\t}\n",
    "\n",
    "\treturn cleanedData, nil\n",
    "}"
   ]
  },
  {
   "cell_type": "code",
   "execution_count": 81,
   "metadata": {},
   "outputs": [],
   "source": [
    "func GET(locId string) (string, error) {\n",
    "// func HandleRequest(req events.APIGatewayProxyRequest) (events.APIGatewayProxyResponse, error) {\n",
    "\tvar weather *WeatherData\n",
    "\tvar event Event\n",
    "\n",
    "// \tIMPORTANT! Set Cors headers\n",
    "// \tresp := events.APIGatewayProxyResponse{Headers: make(map[string]string)}\n",
    "// \tresp.Headers[\"Access-Control-Allow-Origin\"] = \"*\"\n",
    "\n",
    "// \t// This will create a log entry in Cloudwatch\n",
    "// \tfmt.Println(\"Request body: \" + req.Body)\n",
    "\n",
    "// \terr := json.Unmarshal([]byte(req.Body), &event)\n",
    "// \tif err != nil {\n",
    "// \t\tresp.StatusCode = 500\n",
    "// \t\tresp.Body = err.Error()\n",
    "// \t\treturn resp, nil\n",
    "// \t}\n",
    "\n",
    "// \tresponse, err := http.Get(apiUrl + event.WoeID)\n",
    "\tresponse, err := http.Get(apiUrl + locId)\n",
    "// \tif err != nil {\n",
    "// \t\tresp.StatusCode = 500\n",
    "// \t\tresp.Body = err.Error()\n",
    "// \t\treturn resp, nil\n",
    "// \t}\n",
    "    \n",
    "\tbody, err := ioutil.ReadAll(response.Body)\n",
    "// \tif err != nil {\n",
    "// \t\tresp.StatusCode = 500\n",
    "// \t\tresp.Body = err.Error()\n",
    "// \t\treturn resp, nil\n",
    "// \t}\n",
    "\tdefer response.Body.Close()\n",
    "\n",
    "\tvar data rawWeatherData\n",
    "// \tif err := json.Unmarshal(body, &data); err != nil {\n",
    "// \t\tresp.StatusCode = 500\n",
    "// \t\tresp.Body = err.Error()\n",
    "// \t\treturn resp, nil\n",
    "// \t}\n",
    "    \n",
    "    json.Unmarshal(body, &data)\n",
    "    \n",
    "\tweather, err = returnHighestPredictability(&data)\n",
    "// \tif err != nil {\n",
    "// \t\tresp.StatusCode = 500\n",
    "// \t\tresp.Body = err.Error()\n",
    "// \t\treturn resp, nil\n",
    "    \n",
    "// \t}\n",
    "\n",
    "\tre, err := json.Marshal(*weather)\n",
    "// \tif err != nil {\n",
    "// \t\tresp.StatusCode = 500\n",
    "// \t\tresp.Body = err.Error()\n",
    "// \t\treturn resp, nil\n",
    "// \t}\n",
    "    fmt.Printf(\"%+v\\n\", weather)\n",
    "\n",
    "// \tresp.StatusCode = 200\n",
    "// \tresp.Body = string(re)\n",
    "\t\n",
    "    return string(re), nil\n",
    "\n",
    "}"
   ]
  },
  {
   "cell_type": "code",
   "execution_count": 82,
   "metadata": {},
   "outputs": [
    {
     "name": "stdout",
     "output_type": "stream",
     "text": [
      "// warning: expression returns 2 values, using only the first one: [string error]\n"
     ]
    }
   ],
   "source": [
    "func main() {\n",
    "\t// Start takes a handler and talks to an internal Lambda endpoint to pass requests to the handler\n",
    "\t//lambda.Start(HandleRequest)\n",
    "    fmt.Print(GET(\"906057\")[0])\n",
    "}"
   ]
  },
  {
   "cell_type": "code",
   "execution_count": 83,
   "metadata": {},
   "outputs": [
    {
     "name": "stdout",
     "output_type": "stream",
     "text": [
      "&{WeatherStateName:Light Rain MinTemp:11.995 MaxTemp:18.97 Title:Stockholm LattLong:59.332169,18.062429}\n",
      "123"
     ]
    }
   ],
   "source": [
    "main()"
   ]
  },
  {
   "cell_type": "code",
   "execution_count": 50,
   "metadata": {},
   "outputs": [
    {
     "ename": "ERROR",
     "evalue": "repl.go:1:21: undefined identifier: weather",
     "output_type": "error",
     "traceback": [
      "repl.go:1:21: undefined identifier: weather"
     ]
    }
   ],
   "source": [
    "fmt.Printf(\"%+v\\n\", weather)"
   ]
  },
  {
   "cell_type": "code",
   "execution_count": null,
   "metadata": {},
   "outputs": [],
   "source": []
  },
  {
   "cell_type": "code",
   "execution_count": null,
   "metadata": {},
   "outputs": [],
   "source": []
  },
  {
   "cell_type": "code",
   "execution_count": 92,
   "metadata": {},
   "outputs": [],
   "source": [
    "var weather *WeatherData\n",
    "var event Event\n",
    "\n",
    "response, err := http.Get(apiUrl + \"906057\")\n",
    "\n",
    "body, err := ioutil.ReadAll(response.Body)\n",
    "defer response.Body.Close()\n",
    "\n",
    "var data rawWeatherData\n",
    "\n",
    "json.Unmarshal(body, &data)\n",
    "\n",
    "weather, err = returnHighestPredictability(&data)\n",
    "\n",
    "re, err := json.Marshal(*weather)"
   ]
  },
  {
   "cell_type": "code",
   "execution_count": 98,
   "metadata": {},
   "outputs": [
    {
     "name": "stdout",
     "output_type": "stream",
     "text": [
      "{\"weather_state_name\":\"Light Rain\",\"min_temp\":11.995,\"max_temp\":18.97,\"title\":\"Stockholm\",\"latt_long\":\"59.332169,18.062429\"}\n"
     ]
    },
    {
     "data": {
      "text/plain": [
       "125 <nil>"
      ]
     },
     "execution_count": 98,
     "metadata": {},
     "output_type": "execute_result"
    }
   ],
   "source": [
    "fmt.Printf(\"%+v\\n\", string(re))"
   ]
  },
  {
   "cell_type": "code",
   "execution_count": 65,
   "metadata": {},
   "outputs": [
    {
     "name": "stdout",
     "output_type": "stream",
     "text": [
      "[123 34 119 101 97 116 104 101 114 95 115 116 97 116 101 95 110 97 109 101 34 58 34 76 105 103 104 116 32 82 97 105 110 34 44 34 109 105 110 95 116 101 109 112 34 58 49 49 46 57 57 53 44 34 109 97 120 95 116 101 109 112 34 58 49 56 46 57 55 44 34 116 105 116 108 101 34 58 34 83 116 111 99 107 104 111 108 109 34 44 34 108 97 116 116 95 108 111 110 103 34 58 34 53 57 46 51 51 50 49 54 57 44 49 56 46 48 54 50 52 50 57 34 125]\n"
     ]
    },
    {
     "data": {
      "text/plain": [
       "427 <nil>"
      ]
     },
     "execution_count": 65,
     "metadata": {},
     "output_type": "execute_result"
    }
   ],
   "source": [
    "fmt.Printf(\"%+v\\n\", re)"
   ]
  },
  {
   "cell_type": "code",
   "execution_count": 66,
   "metadata": {},
   "outputs": [
    {
     "data": {
      "text/plain": [
       "[123 34 119 101 97 116 104 101 114 95 115 116 97 116 101 95 110 97 109 101 34 58 34 76 105 103 104 116 32 82 97 105 110 34 44 34 109 105 110 95 116 101 109 112 34 58 49 49 46 57 57 53 44 34 109 97 120 95 116 101 109 112 34 58 49 56 46 57 55 44 34 116 105 116 108 101 34 58 34 83 116 111 99 107 104 111 108 109 34 44 34 108 97 116 116 95 108 111 110 103 34 58 34 53 57 46 51 51 50 49 54 57 44 49 56 46 48 54 50 52 50 57 34 125]"
      ]
     },
     "execution_count": 66,
     "metadata": {},
     "output_type": "execute_result"
    }
   ],
   "source": [
    "re"
   ]
  },
  {
   "cell_type": "code",
   "execution_count": null,
   "metadata": {},
   "outputs": [],
   "source": []
  },
  {
   "cell_type": "code",
   "execution_count": 72,
   "metadata": {},
   "outputs": [],
   "source": [
    "func main() {\n",
    "\ttype ColorGroup struct {\n",
    "\t\tID     int\n",
    "\t\tName   string\n",
    "\t\tColors []string\n",
    "\t}\n",
    "\tgroup := ColorGroup{\n",
    "\t\tID:     1,\n",
    "\t\tName:   \"Reds\",\n",
    "\t\tColors: []string{\"Crimson\", \"Red\", \"Ruby\", \"Maroon\"},\n",
    "\t}\n",
    "    fmt.Printf(\"%+v\\n\", group)\n",
    "\tb, err := json.Marshal(group)\n",
    "\tif err != nil {\n",
    "\t\tfmt.Println(\"error:\", err)\n",
    "\t}\n",
    "\tos.Stdout.Write(b)\n",
    "}"
   ]
  },
  {
   "cell_type": "code",
   "execution_count": 73,
   "metadata": {},
   "outputs": [
    {
     "name": "stdout",
     "output_type": "stream",
     "text": [
      "{ID:1 Name:Reds Colors:[Crimson Red Ruby Maroon]}\n",
      "{\"ID\":1,\"Name\":\"Reds\",\"Colors\":[\"Crimson\",\"Red\",\"Ruby\",\"Maroon\"]}"
     ]
    }
   ],
   "source": [
    "main()"
   ]
  },
  {
   "cell_type": "code",
   "execution_count": null,
   "metadata": {},
   "outputs": [],
   "source": []
  },
  {
   "cell_type": "code",
   "execution_count": null,
   "metadata": {},
   "outputs": [],
   "source": []
  },
  {
   "cell_type": "code",
   "execution_count": null,
   "metadata": {},
   "outputs": [],
   "source": [
    "os.Stdout.Write()"
   ]
  },
  {
   "cell_type": "code",
   "execution_count": null,
   "metadata": {},
   "outputs": [],
   "source": []
  },
  {
   "cell_type": "code",
   "execution_count": null,
   "metadata": {},
   "outputs": [],
   "source": []
  },
  {
   "cell_type": "code",
   "execution_count": null,
   "metadata": {},
   "outputs": [],
   "source": []
  },
  {
   "cell_type": "code",
   "execution_count": null,
   "metadata": {},
   "outputs": [],
   "source": []
  },
  {
   "cell_type": "code",
   "execution_count": null,
   "metadata": {},
   "outputs": [],
   "source": []
  },
  {
   "cell_type": "code",
   "execution_count": null,
   "metadata": {},
   "outputs": [],
   "source": []
  },
  {
   "cell_type": "code",
   "execution_count": 109,
   "metadata": {},
   "outputs": [],
   "source": [
    "a := []byte(\"woeid: 906057\")"
   ]
  },
  {
   "cell_type": "code",
   "execution_count": 110,
   "metadata": {},
   "outputs": [
    {
     "name": "stdout",
     "output_type": "stream",
     "text": [
      "[119 111 101 105 100 58 32 57 48 54 48 53 55]"
     ]
    },
    {
     "data": {
      "text/plain": [
       "45 <nil>"
      ]
     },
     "execution_count": 110,
     "metadata": {},
     "output_type": "execute_result"
    }
   ],
   "source": [
    "fmt.Print(a)"
   ]
  },
  {
   "cell_type": "code",
   "execution_count": 105,
   "metadata": {},
   "outputs": [],
   "source": [
    "xxconst convert string = \"woeid: 906057\""
   ]
  },
  {
   "cell_type": "code",
   "execution_count": 106,
   "metadata": {},
   "outputs": [
    {
     "ename": "ERROR",
     "evalue": "repl.go:1:16: cannot convert string to uint8: convert",
     "output_type": "error",
     "traceback": [
      "repl.go:1:16: cannot convert string to uint8: convert"
     ]
    }
   ],
   "source": [
    "fmt.Print(byte(convert))"
   ]
  },
  {
   "cell_type": "code",
   "execution_count": null,
   "metadata": {},
   "outputs": [],
   "source": []
  }
 ],
 "metadata": {
  "kernelspec": {
   "display_name": "Go",
   "language": "go",
   "name": "gophernotes"
  },
  "language_info": {
   "codemirror_mode": "",
   "file_extension": ".go",
   "mimetype": "",
   "name": "go",
   "nbconvert_exporter": "",
   "pygments_lexer": "",
   "version": "go1.14.6"
  }
 },
 "nbformat": 4,
 "nbformat_minor": 4
}
